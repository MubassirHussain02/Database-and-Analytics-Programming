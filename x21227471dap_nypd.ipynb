{
 "cells": [
  {
   "cell_type": "markdown",
   "id": "2d88394c",
   "metadata": {},
   "source": [
    "# <span style=\"color:red\">IMPORTING PACKAGES</span>"
   ]
  },
  {
   "cell_type": "code",
   "execution_count": null,
   "id": "9c7eeaac",
   "metadata": {},
   "outputs": [],
   "source": [
    "# import requests\n",
    "import pymongo\n",
    "import random\n",
    "import pandas as pd\n",
    "import json\n",
    "from sqlalchemy import create_engine\n",
    "from sqlalchemy import exc\n",
    "from sqlalchemy import inspect"
   ]
  },
  {
   "cell_type": "markdown",
   "id": "28bddcb5",
   "metadata": {},
   "source": [
    "<span style=\"color:blue\">The below code imports the pymongo module, creates a connection to the \"dap_uat\" MongoDB database, and then identifies the \"NYPD_Arrest_Data\" collection as the one to deal with.</span>\n"
   ]
  },
  {
   "cell_type": "code",
   "execution_count": 24,
   "id": "8942bf02",
   "metadata": {},
   "outputs": [],
   "source": [
    "# import the pymongo library\n",
    "import pymongo\n",
    "\n",
    "# create a connection to the MongoDB database\n",
    "client = pymongo.MongoClient(\"mongodb://localhost:27017/\")\n",
    "\n",
    "# specify the name of the database\n",
    "my_database = client[\"dap_uat\"]\n",
    "\n",
    "# specify the name of the collection\n",
    "collection = my_database[\"NYPD_Arrest_Data\"]\n",
    "\n"
   ]
  },
  {
   "cell_type": "markdown",
   "id": "1386a8d3",
   "metadata": {},
   "source": [
    "<span style=\"color:blue\">The below code is to drop the entire collection to remove old data and print a message indicating that the old data has been dropped.</span>"
   ]
  },
  {
   "cell_type": "code",
   "execution_count": 25,
   "id": "44751392",
   "metadata": {},
   "outputs": [
    {
     "name": "stdout",
     "output_type": "stream",
     "text": [
      "Dropped old data\n"
     ]
    }
   ],
   "source": [
    "# Dropping the entire collection to remove old data\n",
    "collection.drop()\n",
    "print(\"Dropped old data\")"
   ]
  },
  {
   "cell_type": "markdown",
   "id": "9839e75a",
   "metadata": {},
   "source": [
    "<span style=\"color:blue\">The \"json\" module is imported in this code below, which then makes use of it to read data into the \"data\" Python variable from the \"NYPD Arrest Data.json\" JSON file.</span>"
   ]
  },
  {
   "cell_type": "code",
   "execution_count": 26,
   "id": "9906ae44",
   "metadata": {},
   "outputs": [],
   "source": [
    "import json\n",
    "\n",
    "# open the JSON file and read its contents\n",
    "with open(\"NYPD Arrest Data.json\", \"r\") as file:\n",
    "    data = json.load(file)"
   ]
  },
  {
   "cell_type": "markdown",
   "id": "b544d87a",
   "metadata": {},
   "source": [
    "<span style=\"color:blue\">The below code extracts column names and data rows from a JSON object called \"data\"</span>"
   ]
  },
  {
   "cell_type": "code",
   "execution_count": 27,
   "id": "0fb4bbfc",
   "metadata": {},
   "outputs": [],
   "source": [
    "# Extracting column names and data rows\n",
    "columns = data[\"meta\"][\"view\"][\"columns\"]\n",
    "column_names = [\"_\".join(col[\"name\"].split()) for col in columns]  # Adjust column names as desired\n",
    "rows = data[\"data\"]"
   ]
  },
  {
   "cell_type": "markdown",
   "id": "236eb5b9",
   "metadata": {},
   "source": [
    "<span style=\"color:blue\"> The below code removes the excess rows and trims it down to 10,000 rows.</span>"
   ]
  },
  {
   "cell_type": "code",
   "execution_count": 28,
   "id": "ee0d2906",
   "metadata": {},
   "outputs": [
    {
     "name": "stdout",
     "output_type": "stream",
     "text": [
      "Randomly deleted rows and Trimmed Data\n"
     ]
    }
   ],
   "source": [
    "# Randomly deleting around 100,000 rows\n",
    "rows_to_delete = random.sample(rows, 170000)\n",
    "for row in rows_to_delete:\n",
    "    collection.delete_one({\"_id\": row[0]})  # Assuming first element in row is the unique identifier\n",
    "\n",
    "# Trim the dataset to 10,000 rows\n",
    "rows = rows[:10000]\n",
    "\n",
    "print(\"Randomly deleted rows and Trimmed Data\")"
   ]
  },
  {
   "cell_type": "markdown",
   "id": "6d72ec4f",
   "metadata": {},
   "source": [
    "<span style=\"color:blue\"> The below code is to insert the data into MongoDB Atlas</span>"
   ]
  },
  {
   "cell_type": "code",
   "execution_count": 29,
   "id": "36aa7d4b",
   "metadata": {},
   "outputs": [
    {
     "name": "stdout",
     "output_type": "stream",
     "text": [
      "Data inserted into MongoDB\n"
     ]
    }
   ],
   "source": [
    "# Insert remaining data into MongoDB\n",
    "for row in rows:\n",
    "    # Create dictionary for each row\n",
    "    cdc_record = {column_names[i]: row[i] for i in range(len(row))}\n",
    "    # Insert record into MongoDB\n",
    "    collection.insert_one(cdc_record)\n",
    "\n",
    "print(\"Data inserted into MongoDB\")\n"
   ]
  },
  {
   "cell_type": "markdown",
   "id": "63871e99",
   "metadata": {},
   "source": [
    "# <span style=\"color:red\">Data Cleaning and Transformation Process</span>"
   ]
  },
  {
   "cell_type": "markdown",
   "id": "06ec64e5",
   "metadata": {},
   "source": [
    "<span style=\"color:blue\">The below codes retrieves data from a MongoDB database, transforms it into a pandas DataFrame, renames certain columns, deletes others, replaces any missing values with \"0,\" and then outputs the number of null values in the finished DataFrame and then the processed data is converted to a structured format CSV .</span>"
   ]
  },
  {
   "cell_type": "code",
   "execution_count": 58,
   "id": "313c2436",
   "metadata": {},
   "outputs": [
    {
     "name": "stdout",
     "output_type": "stream",
     "text": [
      "pd_decription             0\n",
      "offense_decription        0\n",
      "arrest_boro               0\n",
      "arrest_precinct           0\n",
      "jurisdiction_code         0\n",
      "age_group                 0\n",
      "perp_sex                  0\n",
      "perp_race                 0\n",
      "community_districts       0\n",
      "borough_boundaries        0\n",
      "city_council_districts    0\n",
      "police_precincts          0\n",
      "zip_codes                 0\n",
      "dtype: int64\n"
     ]
    }
   ],
   "source": [
    "# Fetch data from MongoDB and convert to DataFrame\n",
    "df = pd.DataFrame(list(collection.find()))\n",
    "\n",
    "\n",
    "# Null values Columns dropping\n",
    "columns_to_drop = [\"_id\",\"New_Georeferenced_Column\",\"Longitude\",\"Latitude\",\"Y_COORD_CD\",\"X_COORD_CD\",\"KY_CD\",\"LAW_CODE\",\"ARREST_KEY\",\"ARREST_DATE\",\"PD_CD\",\"updated_meta\", \"created_meta\", \"LAW_CAT_CD\",\"sid\",\"id\",\"position\",\"created_at\",\"created_meta\",\"updated_at\",\"meta\"]\n",
    "df.drop(columns_to_drop, axis=1, inplace=True)\n",
    "\n",
    "new_column_names = {'PD_DESC':'pd_decription','OFNS_DESC':'offense_decription','ARREST_BORO':'arrest_boro','ARREST_PRECINCT':'arrest_precinct','JURISDICTION_CODE':'jurisdiction_code','AGE_GROUP':'age_group','PERP_SEX': 'perp_sex','PERP_RACE': 'perp_race','Community_Districts':'community_districts','Borough_Boundaries':'borough_boundaries','City_Council_Districts':'city_council_districts','Police_Precincts':'police_precincts','Zip_Codes':'zip_codes'}\n",
    "df.rename(columns=new_column_names, inplace=True)\n",
    "\n",
    "# Clean the data\n",
    "# Filling in missing values with a default value\n",
    "df.fillna(\"0\", inplace=True)\n",
    "\n",
    "\n",
    "# Check for null values in DataFrame\n",
    "print(df.isnull().sum())"
   ]
  },
  {
   "cell_type": "code",
   "execution_count": 59,
   "id": "ef55ddad",
   "metadata": {
    "scrolled": true
   },
   "outputs": [
    {
     "data": {
      "text/html": [
       "<div>\n",
       "<style scoped>\n",
       "    .dataframe tbody tr th:only-of-type {\n",
       "        vertical-align: middle;\n",
       "    }\n",
       "\n",
       "    .dataframe tbody tr th {\n",
       "        vertical-align: top;\n",
       "    }\n",
       "\n",
       "    .dataframe thead th {\n",
       "        text-align: right;\n",
       "    }\n",
       "</style>\n",
       "<table border=\"1\" class=\"dataframe\">\n",
       "  <thead>\n",
       "    <tr style=\"text-align: right;\">\n",
       "      <th></th>\n",
       "      <th>pd_decription</th>\n",
       "      <th>offense_decription</th>\n",
       "      <th>arrest_boro</th>\n",
       "      <th>arrest_precinct</th>\n",
       "      <th>jurisdiction_code</th>\n",
       "      <th>age_group</th>\n",
       "      <th>perp_sex</th>\n",
       "      <th>perp_race</th>\n",
       "      <th>community_districts</th>\n",
       "      <th>borough_boundaries</th>\n",
       "      <th>city_council_districts</th>\n",
       "      <th>police_precincts</th>\n",
       "      <th>zip_codes</th>\n",
       "    </tr>\n",
       "  </thead>\n",
       "  <tbody>\n",
       "    <tr>\n",
       "      <th>0</th>\n",
       "      <td>JOSTLING</td>\n",
       "      <td>JOSTLING</td>\n",
       "      <td>Q</td>\n",
       "      <td>110</td>\n",
       "      <td>1</td>\n",
       "      <td>25-44</td>\n",
       "      <td>M</td>\n",
       "      <td>BLACK</td>\n",
       "      <td>67</td>\n",
       "      <td>3</td>\n",
       "      <td>21</td>\n",
       "      <td>68</td>\n",
       "      <td>14510</td>\n",
       "    </tr>\n",
       "    <tr>\n",
       "      <th>1</th>\n",
       "      <td>ROBBERY,OPEN AREA UNCLASSIFIED</td>\n",
       "      <td>ROBBERY</td>\n",
       "      <td>K</td>\n",
       "      <td>69</td>\n",
       "      <td>0</td>\n",
       "      <td>25-44</td>\n",
       "      <td>M</td>\n",
       "      <td>BLACK</td>\n",
       "      <td>5</td>\n",
       "      <td>2</td>\n",
       "      <td>25</td>\n",
       "      <td>42</td>\n",
       "      <td>13827</td>\n",
       "    </tr>\n",
       "    <tr>\n",
       "      <th>2</th>\n",
       "      <td>STRANGULATION 1ST</td>\n",
       "      <td>FELONY ASSAULT</td>\n",
       "      <td>K</td>\n",
       "      <td>61</td>\n",
       "      <td>0</td>\n",
       "      <td>65+</td>\n",
       "      <td>M</td>\n",
       "      <td>WHITE</td>\n",
       "      <td>32</td>\n",
       "      <td>2</td>\n",
       "      <td>15</td>\n",
       "      <td>36</td>\n",
       "      <td>18183</td>\n",
       "    </tr>\n",
       "    <tr>\n",
       "      <th>3</th>\n",
       "      <td>ASSAULT 3</td>\n",
       "      <td>ASSAULT 3 &amp; RELATED OFFENSES</td>\n",
       "      <td>M</td>\n",
       "      <td>28</td>\n",
       "      <td>0</td>\n",
       "      <td>45-64</td>\n",
       "      <td>M</td>\n",
       "      <td>BLACK</td>\n",
       "      <td>18</td>\n",
       "      <td>4</td>\n",
       "      <td>36</td>\n",
       "      <td>18</td>\n",
       "      <td>12424</td>\n",
       "    </tr>\n",
       "    <tr>\n",
       "      <th>4</th>\n",
       "      <td>ROBBERY,OPEN AREA UNCLASSIFIED</td>\n",
       "      <td>ROBBERY</td>\n",
       "      <td>K</td>\n",
       "      <td>76</td>\n",
       "      <td>0</td>\n",
       "      <td>45-64</td>\n",
       "      <td>M</td>\n",
       "      <td>BLACK</td>\n",
       "      <td>68</td>\n",
       "      <td>2</td>\n",
       "      <td>38</td>\n",
       "      <td>54</td>\n",
       "      <td>16865</td>\n",
       "    </tr>\n",
       "  </tbody>\n",
       "</table>\n",
       "</div>"
      ],
      "text/plain": [
       "                    pd_decription            offense_decription arrest_boro  \\\n",
       "0                        JOSTLING                      JOSTLING           Q   \n",
       "1  ROBBERY,OPEN AREA UNCLASSIFIED                       ROBBERY           K   \n",
       "2               STRANGULATION 1ST                FELONY ASSAULT           K   \n",
       "3                       ASSAULT 3  ASSAULT 3 & RELATED OFFENSES           M   \n",
       "4  ROBBERY,OPEN AREA UNCLASSIFIED                       ROBBERY           K   \n",
       "\n",
       "  arrest_precinct jurisdiction_code age_group perp_sex perp_race  \\\n",
       "0             110                 1     25-44        M     BLACK   \n",
       "1              69                 0     25-44        M     BLACK   \n",
       "2              61                 0       65+        M     WHITE   \n",
       "3              28                 0     45-64        M     BLACK   \n",
       "4              76                 0     45-64        M     BLACK   \n",
       "\n",
       "  community_districts borough_boundaries city_council_districts  \\\n",
       "0                  67                  3                     21   \n",
       "1                   5                  2                     25   \n",
       "2                  32                  2                     15   \n",
       "3                  18                  4                     36   \n",
       "4                  68                  2                     38   \n",
       "\n",
       "  police_precincts zip_codes  \n",
       "0               68     14510  \n",
       "1               42     13827  \n",
       "2               36     18183  \n",
       "3               18     12424  \n",
       "4               54     16865  "
      ]
     },
     "execution_count": 59,
     "metadata": {},
     "output_type": "execute_result"
    }
   ],
   "source": [
    "df.head()"
   ]
  },
  {
   "cell_type": "code",
   "execution_count": 60,
   "id": "c36a7b9e",
   "metadata": {},
   "outputs": [],
   "source": [
    "df.to_csv('cleaned_nypd.csv',index=False)"
   ]
  },
  {
   "cell_type": "code",
   "execution_count": 61,
   "id": "92572d07",
   "metadata": {},
   "outputs": [],
   "source": [
    "cleaned_data_df = pd.read_csv(\"cleaned_nypd.csv\")"
   ]
  },
  {
   "cell_type": "markdown",
   "id": "abff487c",
   "metadata": {},
   "source": [
    "# <span style=\"color:red\">Importing the processed data to Postgresql Database</span>"
   ]
  },
  {
   "cell_type": "markdown",
   "id": "2f32ec69",
   "metadata": {},
   "source": [
    "<span style=\"color:blue\"> The below code is to create tables in the database related to the dataset</span>"
   ]
  },
  {
   "cell_type": "code",
   "execution_count": 63,
   "id": "d71d6ccc",
   "metadata": {},
   "outputs": [
    {
     "name": "stdout",
     "output_type": "stream",
     "text": [
      "Table created successfully!\n"
     ]
    }
   ],
   "source": [
    "try:\n",
    "    cur = conn.cursor() # Create a cursor object for executing SQL queries.\n",
    "    # SQL query to create the table with column names and data types.\n",
    "    cur.execute('''\n",
    "        CREATE TABLE IF NOT EXISTS nypd_arrest_data(\n",
    "            pd_decription TEXT,\n",
    "            offense_decription TEXT,\n",
    "            arrest_boro TEXT,\n",
    "            arrest_precinct TEXT,\n",
    "            jurisdiction_code TEXT,\n",
    "            age_group TEXT,\n",
    "            perp_sex TEXT,\n",
    "            perp_race TEXT,\n",
    "            community_districts TEXT,\n",
    "            borough_boundaries TEXT,\n",
    "            city_council_districts TEXT,\n",
    "            police_precincts TEXT,\n",
    "            zip_codes TEXT\n",
    "        );\n",
    "    ''')\n",
    "    conn.commit() # Commit the transaction.\n",
    "    print(\"Table created successfully!\")\n",
    "except psycopg2.Error as e:\n",
    "    print(\"Error creating table:\", e)\n",
    "    conn.rollback() # Rollback the transaction in case of an error.\n",
    "finally:\n",
    "    cur.close() # Close the cursor."
   ]
  },
  {
   "cell_type": "code",
   "execution_count": 66,
   "id": "5a79dca1",
   "metadata": {},
   "outputs": [
    {
     "name": "stdout",
     "output_type": "stream",
     "text": [
      "Data loaded to PostgreSQL successfully!\n"
     ]
    }
   ],
   "source": [
    "try:\n",
    "    engine = create_engine(f'postgresql://{user}:{password}@{host}:5432/{dbname}')\n",
    "    inspector = inspect(engine)\n",
    "    # Check if the table already contains data, if so, delete all the rows. \n",
    "    table_name = 'nypd_arrest_data'\n",
    "    if table_name in inspector.get_table_names():\n",
    "        with conn.cursor() as cursor:\n",
    "            cursor.execute(f\"DELETE FROM nypd_arrest_data\")\n",
    "            conn.commit()  # Commit the DELETE statement\n",
    "            #print(f\"All rows deleted from table '{table_name}'.\")\n",
    "    cleaned_data_df.to_sql('nypd_arrest_data', engine, if_exists='append', index=False)\n",
    "    engine.dispose() # Dispose the engine after data is loaded.\n",
    "    print(\"Data loaded to PostgreSQL successfully!\")\n",
    "except exc.SQLAlchemyError as e:\n",
    "    print(\"Error loading data to PostgreSQL:\", e)"
   ]
  },
  {
   "cell_type": "code",
   "execution_count": 67,
   "id": "cffb03f8",
   "metadata": {},
   "outputs": [
    {
     "name": "stdout",
     "output_type": "stream",
     "text": [
      "Data loaded from PostgreSQL to DataFrame successfully!\n"
     ]
    },
    {
     "name": "stderr",
     "output_type": "stream",
     "text": [
      "/var/folders/pp/93wc99kj26b3hg5_2y8sxlpm0000gn/T/ipykernel_5604/46277063.py:5: UserWarning: pandas only supports SQLAlchemy connectable (engine/connection) or database string URI or sqlite3 DBAPI2 connection. Other DBAPI2 objects are not tested. Please consider using SQLAlchemy.\n",
      "  df_from_postgresdb = pd.read_sql(query, conn)\n"
     ]
    }
   ],
   "source": [
    "# Function to extract data from PostgreSQL table and load it into a DataFrame\n",
    "try:\n",
    "    conn = psycopg2.connect(dbname=dbname, user=user, password=password, host=host)\n",
    "    query = 'SELECT * FROM nypd_arrest_data'\n",
    "    df_from_postgresdb = pd.read_sql(query, conn)\n",
    "    \n",
    "    print(\"Data loaded from PostgreSQL to DataFrame successfully!\")\n",
    "except Exception as e:\n",
    "    print(\"Error loading data from PostgreSQL to DataFrame:\", e)"
   ]
  },
  {
   "cell_type": "code",
   "execution_count": 68,
   "id": "6ae00d24",
   "metadata": {
    "scrolled": true
   },
   "outputs": [
    {
     "data": {
      "text/html": [
       "<div>\n",
       "<style scoped>\n",
       "    .dataframe tbody tr th:only-of-type {\n",
       "        vertical-align: middle;\n",
       "    }\n",
       "\n",
       "    .dataframe tbody tr th {\n",
       "        vertical-align: top;\n",
       "    }\n",
       "\n",
       "    .dataframe thead th {\n",
       "        text-align: right;\n",
       "    }\n",
       "</style>\n",
       "<table border=\"1\" class=\"dataframe\">\n",
       "  <thead>\n",
       "    <tr style=\"text-align: right;\">\n",
       "      <th></th>\n",
       "      <th>pd_decription</th>\n",
       "      <th>offense_decription</th>\n",
       "      <th>arrest_boro</th>\n",
       "      <th>arrest_precinct</th>\n",
       "      <th>jurisdiction_code</th>\n",
       "      <th>age_group</th>\n",
       "      <th>perp_sex</th>\n",
       "      <th>perp_race</th>\n",
       "      <th>community_districts</th>\n",
       "      <th>borough_boundaries</th>\n",
       "      <th>city_council_districts</th>\n",
       "      <th>police_precincts</th>\n",
       "      <th>zip_codes</th>\n",
       "    </tr>\n",
       "  </thead>\n",
       "  <tbody>\n",
       "    <tr>\n",
       "      <th>0</th>\n",
       "      <td>JOSTLING</td>\n",
       "      <td>JOSTLING</td>\n",
       "      <td>Q</td>\n",
       "      <td>110</td>\n",
       "      <td>1</td>\n",
       "      <td>25-44</td>\n",
       "      <td>M</td>\n",
       "      <td>BLACK</td>\n",
       "      <td>67</td>\n",
       "      <td>3</td>\n",
       "      <td>21</td>\n",
       "      <td>68</td>\n",
       "      <td>14510</td>\n",
       "    </tr>\n",
       "    <tr>\n",
       "      <th>1</th>\n",
       "      <td>ROBBERY,OPEN AREA UNCLASSIFIED</td>\n",
       "      <td>ROBBERY</td>\n",
       "      <td>K</td>\n",
       "      <td>69</td>\n",
       "      <td>0</td>\n",
       "      <td>25-44</td>\n",
       "      <td>M</td>\n",
       "      <td>BLACK</td>\n",
       "      <td>5</td>\n",
       "      <td>2</td>\n",
       "      <td>25</td>\n",
       "      <td>42</td>\n",
       "      <td>13827</td>\n",
       "    </tr>\n",
       "    <tr>\n",
       "      <th>2</th>\n",
       "      <td>STRANGULATION 1ST</td>\n",
       "      <td>FELONY ASSAULT</td>\n",
       "      <td>K</td>\n",
       "      <td>61</td>\n",
       "      <td>0</td>\n",
       "      <td>65+</td>\n",
       "      <td>M</td>\n",
       "      <td>WHITE</td>\n",
       "      <td>32</td>\n",
       "      <td>2</td>\n",
       "      <td>15</td>\n",
       "      <td>36</td>\n",
       "      <td>18183</td>\n",
       "    </tr>\n",
       "    <tr>\n",
       "      <th>3</th>\n",
       "      <td>ASSAULT 3</td>\n",
       "      <td>ASSAULT 3 &amp; RELATED OFFENSES</td>\n",
       "      <td>M</td>\n",
       "      <td>28</td>\n",
       "      <td>0</td>\n",
       "      <td>45-64</td>\n",
       "      <td>M</td>\n",
       "      <td>BLACK</td>\n",
       "      <td>18</td>\n",
       "      <td>4</td>\n",
       "      <td>36</td>\n",
       "      <td>18</td>\n",
       "      <td>12424</td>\n",
       "    </tr>\n",
       "    <tr>\n",
       "      <th>4</th>\n",
       "      <td>ROBBERY,OPEN AREA UNCLASSIFIED</td>\n",
       "      <td>ROBBERY</td>\n",
       "      <td>K</td>\n",
       "      <td>76</td>\n",
       "      <td>0</td>\n",
       "      <td>45-64</td>\n",
       "      <td>M</td>\n",
       "      <td>BLACK</td>\n",
       "      <td>68</td>\n",
       "      <td>2</td>\n",
       "      <td>38</td>\n",
       "      <td>54</td>\n",
       "      <td>16865</td>\n",
       "    </tr>\n",
       "  </tbody>\n",
       "</table>\n",
       "</div>"
      ],
      "text/plain": [
       "                    pd_decription            offense_decription arrest_boro  \\\n",
       "0                        JOSTLING                      JOSTLING           Q   \n",
       "1  ROBBERY,OPEN AREA UNCLASSIFIED                       ROBBERY           K   \n",
       "2               STRANGULATION 1ST                FELONY ASSAULT           K   \n",
       "3                       ASSAULT 3  ASSAULT 3 & RELATED OFFENSES           M   \n",
       "4  ROBBERY,OPEN AREA UNCLASSIFIED                       ROBBERY           K   \n",
       "\n",
       "  arrest_precinct jurisdiction_code age_group perp_sex perp_race  \\\n",
       "0             110                 1     25-44        M     BLACK   \n",
       "1              69                 0     25-44        M     BLACK   \n",
       "2              61                 0       65+        M     WHITE   \n",
       "3              28                 0     45-64        M     BLACK   \n",
       "4              76                 0     45-64        M     BLACK   \n",
       "\n",
       "  community_districts borough_boundaries city_council_districts  \\\n",
       "0                  67                  3                     21   \n",
       "1                   5                  2                     25   \n",
       "2                  32                  2                     15   \n",
       "3                  18                  4                     36   \n",
       "4                  68                  2                     38   \n",
       "\n",
       "  police_precincts zip_codes  \n",
       "0               68     14510  \n",
       "1               42     13827  \n",
       "2               36     18183  \n",
       "3               18     12424  \n",
       "4               54     16865  "
      ]
     },
     "execution_count": 68,
     "metadata": {},
     "output_type": "execute_result"
    }
   ],
   "source": [
    "df_from_postgresdb.head()"
   ]
  }
 ],
 "metadata": {
  "kernelspec": {
   "display_name": "Python 3 (ipykernel)",
   "language": "python",
   "name": "python3"
  },
  "language_info": {
   "codemirror_mode": {
    "name": "ipython",
    "version": 3
   },
   "file_extension": ".py",
   "mimetype": "text/x-python",
   "name": "python",
   "nbconvert_exporter": "python",
   "pygments_lexer": "ipython3",
   "version": "3.10.8"
  }
 },
 "nbformat": 4,
 "nbformat_minor": 5
}
